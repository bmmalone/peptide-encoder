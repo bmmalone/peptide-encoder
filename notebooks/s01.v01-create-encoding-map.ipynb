{
 "cells": [
  {
   "cell_type": "markdown",
   "metadata": {},
   "source": [
    "## Create a one-hot encoding map for amino acids\n",
    "\n",
    "This is intended to transform peptide sequences into the input format for a pytorch Embedding layer. The padding character is `-`, and its index will be index `0`."
   ]
  },
  {
   "cell_type": "markdown",
   "metadata": {},
   "source": [
    "## Imports"
   ]
  },
  {
   "cell_type": "markdown",
   "metadata": {
    "Collapsed": "false"
   },
   "source": [
    "#### Standard pydata imports\n",
    "\n",
    "This also creates a default `logger` for use in the notebook."
   ]
  },
  {
   "cell_type": "code",
   "execution_count": 1,
   "metadata": {
    "Collapsed": "false"
   },
   "outputs": [
    {
     "name": "stderr",
     "output_type": "stream",
     "text": [
      "INFO     : NumExpr defaulting to 4 threads.\n"
     ]
    }
   ],
   "source": [
    "%load_ext autoreload\n",
    "%autoreload 2\n",
    "%matplotlib inline\n",
    "\n",
    "from argparse import Namespace\n",
    "\n",
    "try:\n",
    "    import pyllars.logging_utils as logging_utils\n",
    "    logger = logging_utils.get_ipython_logger()\n",
    "    logger.setLevel('INFO')\n",
    "except:\n",
    "    pass\n",
    "\n",
    "# standard pydata imports\n",
    "import joblib\n",
    "import matplotlib.pyplot as plt\n",
    "import networkx as nx\n",
    "import numpy as np\n",
    "import pandas as pd\n",
    "import pathlib\n",
    "import seaborn as sns; sns.set(style='white', color_codes=True)\n",
    "import tqdm\n",
    "import yaml"
   ]
  },
  {
   "cell_type": "markdown",
   "metadata": {},
   "source": [
    "#### Custom imports"
   ]
  },
  {
   "cell_type": "code",
   "execution_count": 2,
   "metadata": {},
   "outputs": [],
   "source": [
    "import pyllars.collection_utils as collection_utils\n",
    "import pyllars.mpl_utils as mpl_utils\n",
    "import pyllars.pandas_utils as pd_utils\n",
    "\n",
    "import lifesci.amino_acid_utils as aa_utils"
   ]
  },
  {
   "cell_type": "markdown",
   "metadata": {},
   "source": [
    "#### Constants"
   ]
  },
  {
   "cell_type": "code",
   "execution_count": 3,
   "metadata": {},
   "outputs": [],
   "source": [
    "BASE = pathlib.Path(\"/prj/peptide-encoder/data/intermediate/\")"
   ]
  },
  {
   "cell_type": "markdown",
   "metadata": {},
   "source": [
    "#### Functions"
   ]
  },
  {
   "cell_type": "code",
   "execution_count": null,
   "metadata": {},
   "outputs": [],
   "source": []
  },
  {
   "cell_type": "markdown",
   "metadata": {
    "Collapsed": "false"
   },
   "source": [
    "## Start code"
   ]
  },
  {
   "cell_type": "code",
   "execution_count": 4,
   "metadata": {
    "Collapsed": "false"
   },
   "outputs": [],
   "source": [
    "args = Namespace()\n",
    "args.out = BASE / \"oh-aa-encoding-map.jpkl\""
   ]
  },
  {
   "cell_type": "code",
   "execution_count": null,
   "metadata": {
    "Collapsed": "false"
   },
   "outputs": [],
   "source": []
  },
  {
   "cell_type": "code",
   "execution_count": 9,
   "metadata": {},
   "outputs": [
    {
     "data": {
      "text/plain": [
       "{'A': 1,\n",
       " 'R': 2,\n",
       " 'N': 3,\n",
       " 'D': 4,\n",
       " 'C': 5,\n",
       " 'E': 6,\n",
       " 'Q': 7,\n",
       " 'G': 8,\n",
       " 'H': 9,\n",
       " 'I': 10,\n",
       " 'L': 11,\n",
       " 'K': 12,\n",
       " 'M': 13,\n",
       " 'F': 14,\n",
       " 'P': 15,\n",
       " 'S': 16,\n",
       " 'T': 17,\n",
       " 'W': 18,\n",
       " 'Y': 19,\n",
       " 'V': 20,\n",
       " '-': 0}"
      ]
     },
     "execution_count": 9,
     "metadata": {},
     "output_type": "execute_result"
    }
   ],
   "source": [
    "aa_letters = aa_utils.aa_letters.copy()\n",
    "idxs = np.arange(1, len(aa_utils.aa_letters)+1)\n",
    "\n",
    "it = zip(aa_letters, idxs)\n",
    "\n",
    "oh_aa_encoding_map = {\n",
    "    aa: idx for aa, idx in it\n",
    "}\n",
    "         \n",
    "oh_aa_encoding_map['-'] = 0\n",
    "                 \n",
    "oh_aa_encoding_map"
   ]
  },
  {
   "cell_type": "code",
   "execution_count": 10,
   "metadata": {},
   "outputs": [
    {
     "data": {
      "text/plain": [
       "['/prj/peptide-encoder/data/intermediate/oh-aa-encoding-map.jpkl']"
      ]
     },
     "execution_count": 10,
     "metadata": {},
     "output_type": "execute_result"
    }
   ],
   "source": [
    "joblib.dump(oh_aa_encoding_map, args.out)"
   ]
  },
  {
   "cell_type": "code",
   "execution_count": null,
   "metadata": {},
   "outputs": [],
   "source": []
  }
 ],
 "metadata": {
  "kernelspec": {
   "display_name": "torch-test",
   "language": "python",
   "name": "torch-test"
  },
  "language_info": {
   "codemirror_mode": {
    "name": "ipython",
    "version": 3
   },
   "file_extension": ".py",
   "mimetype": "text/x-python",
   "name": "python",
   "nbconvert_exporter": "python",
   "pygments_lexer": "ipython3",
   "version": "3.9.7"
  }
 },
 "nbformat": 4,
 "nbformat_minor": 4
}
